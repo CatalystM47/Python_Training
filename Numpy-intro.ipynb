{
 "cells": [
  {
   "cell_type": "markdown",
   "metadata": {
    "pycharm": {
     "name": "#%% md\n"
    }
   },
   "source": [
    "# <font color='blue'>Numpy intro</font>\n",
    "\n",
    "### <font style=\"color:rgb(8,133,37)\">Why do we need a special library for math and DL?</font>\n",
    "Python provides data types such as lists / tuples out of the box. Then, why are we using special libraries for deep learning tasks, such as Pytorch or TensorFlow, and not using standard types?\n",
    "\n",
    "The major reason is efficiency - In pure python, there are no primitive types for numbers, as in e.g. C language. All the data types in Python are objects with lots of properties and methods. You can see it using the `dir` function:"
   ]
  },
  {
   "cell_type": "markdown",
   "metadata": {
    "pycharm": {
     "name": "#%% md\n"
    }
   },
   "source": [
    "### <font style=\"color:rgb(8,133,37)\">Python Issues</font>\n",
    "\n",
    "- slow in tasks that require tons of simple math operations on numbers\n",
    "- huge memory overhead due to storing plain numbers as objects\n",
    "- runtime overhead during memory dereferencing - cache issues\n",
    "\n",
    "\n",
    "NumPy is an abbreviation for \"numerical python\" and as it stands from the naming it provides a rich collection of operations on the numerical data types with a python interface. The core data structure of NumPy is `ndarray` - a multidimensional array. Let's take a look at its interface in comparison with plain python lists."
   ]
  },
  {
   "cell_type": "markdown",
   "metadata": {
    "pycharm": {
     "name": "#%% md\n"
    }
   },
   "source": [
    "# <font style=\"color:blue\">Basics of Numpy </font>\n",
    "We will go over some of the useful operations of Numpy arrays, which are most commonly used in ML tasks."
   ]
  },
  {
   "cell_type": "markdown",
   "metadata": {
    "pycharm": {
     "name": "#%% md\n"
    }
   },
   "source": [
    "## <font color='blue'>1. Basic Operations </font>\n",
    "### <font style=\"color:rgb(8,133,37)\">1.1. Python list to numpy array</font>\n"
   ]
  },
  {
   "cell_type": "markdown",
   "metadata": {
    "collapsed": true,
    "pycharm": {
     "name": "#%% md\n"
    }
   },
   "source": []
  },
  {
   "cell_type": "code",
   "execution_count": 38,
   "metadata": {
    "pycharm": {
     "name": "#%%\n"
    }
   },
   "outputs": [],
   "source": [
    "import numpy as np"
   ]
  },
  {
   "cell_type": "code",
   "execution_count": 39,
   "metadata": {
    "pycharm": {
     "name": "#%%\n"
    }
   },
   "outputs": [
    {
     "data": {
      "text/plain": [
       "array([ 1,  2,  3,  4,  5,  6,  7,  8,  9, 10])"
      ]
     },
     "execution_count": 39,
     "metadata": {},
     "output_type": "execute_result"
    }
   ],
   "source": [
    "py_list = [1, 2, 3, 4, 5, 6, 7, 8, 9, 10]\n",
    "\n",
    "np_array = np.array(py_list)\n",
    "np_array"
   ]
  },
  {
   "cell_type": "code",
   "execution_count": 40,
   "metadata": {
    "pycharm": {
     "name": "#%%\n"
    }
   },
   "outputs": [
    {
     "data": {
      "text/plain": [
       "array([[ 1,  2,  3],\n",
       "       [ 4,  5,  6],\n",
       "       [ 7,  8,  9],\n",
       "       [10, 11, 12]])"
      ]
     },
     "execution_count": 40,
     "metadata": {},
     "output_type": "execute_result"
    }
   ],
   "source": [
    "py_list = [[1, 2, 3], [4, 5, 6], [7, 8, 9], [10, 11, 12]]\n",
    "\n",
    "np_array= np.array(py_list)\n",
    "np_array"
   ]
  },
  {
   "cell_type": "markdown",
   "metadata": {
    "pycharm": {
     "name": "#%% md\n"
    }
   },
   "source": [
    "### <font style=\"color:rgb(8,133,37)\">1.2. Slicing and Indexing</font>\n"
   ]
  },
  {
   "cell_type": "code",
   "execution_count": 41,
   "metadata": {
    "pycharm": {
     "name": "#%%\n"
    }
   },
   "outputs": [
    {
     "name": "stdout",
     "output_type": "stream",
     "text": [
      "First row:\t\t\t[1 2 3]\n",
      "First column:\t\t\t[ 1  4  7 10]\n",
      "3rd row 2nd column element:\t8\n",
      "2nd onwards row and 2nd onwards column:\n",
      "[[ 5  6]\n",
      " [ 8  9]\n",
      " [11 12]]\n",
      "Last 2 rows and last 2 columns:\n",
      "[[ 8  9]\n",
      " [11 12]]\n",
      "Array with 3rd, 1st and 4th row:\n",
      "[[ 7  8  9]\n",
      " [ 1  2  3]\n",
      " [10 11 12]]\n"
     ]
    }
   ],
   "source": [
    "print('First row:\\t\\t\\t{}'.format(np_array[0]))\n",
    "print('First column:\\t\\t\\t{}'.format(np_array[:, 0]))\n",
    "print('3rd row 2nd column element:\\t{}'.format(np_array[2][1]))\n",
    "print('2nd onwards row and 2nd onwards column:\\n{}'.format(np_array[1:, 1:]))\n",
    "print('Last 2 rows and last 2 columns:\\n{}'.format(np_array[-2:, -2:]))\n",
    "print('Array with 3rd, 1st and 4th row:\\n{}'.format(np_array[[2, 0, 3]]))"
   ]
  },
  {
   "cell_type": "markdown",
   "metadata": {
    "pycharm": {
     "name": "#%% md\n"
    }
   },
   "source": [
    "### <font style=\"color:rgb(8,133,37)\">1.3. Basic attributes of NumPy array</font>\n",
    "\n",
    "Get a full list of attributes of an ndarray object [here](https://numpy.org/devdocs/user/quickstart.html)."
   ]
  },
  {
   "cell_type": "code",
   "execution_count": 42,
   "metadata": {
    "pycharm": {
     "name": "#%%\n"
    }
   },
   "outputs": [
    {
     "name": "stdout",
     "output_type": "stream",
     "text": [
      "Data type:\tint64\n",
      "Array shape:\t(4, 3)\n"
     ]
    }
   ],
   "source": [
    "print('Data type:\\t{}'.format(np_array.dtype))\n",
    "print('Array shape:\\t{}'.format(np_array.shape))"
   ]
  },
  {
   "cell_type": "code",
   "execution_count": 43,
   "metadata": {
    "pycharm": {
     "name": "#%%\n"
    }
   },
   "outputs": [
    {
     "name": "stdout",
     "output_type": "stream",
     "text": [
      "Array:\n",
      "[[ 1  2  3]\n",
      " [ 4  5  6]\n",
      " [ 7  8  9]\n",
      " [10 11 12]]\n",
      "Data type:\tint64\n",
      "Array shape:\t(4, 3)\n",
      "\n"
     ]
    }
   ],
   "source": [
    "def array_info(array):\n",
    "    print('Array:\\n{}'.format(array))\n",
    "    print('Data type:\\t{}'.format(array.dtype))\n",
    "    print('Array shape:\\t{}\\n'.format(array.shape))\n",
    "\n",
    "array_info(np_array)"
   ]
  },
  {
   "cell_type": "markdown",
   "metadata": {
    "pycharm": {
     "name": "#%% md\n"
    }
   },
   "source": [
    "### <font style=\"color:rgb(8,133,37)\">1.4. Creating NumPy array using built-in functions and datatypes</font>\n",
    "\n",
    "The full list of supported data types can be found [here](https://numpy.org/devdocs/user/basics.types.html).\n"
   ]
  },
  {
   "cell_type": "markdown",
   "metadata": {
    "pycharm": {
     "name": "#%% md\n"
    }
   },
   "source": [
    "**Sequence Array**\n",
    "\n",
    "`np.arange([start, ]stop, [step, ]dtype=None)`\n",
    "\n",
    "Return evenly spaced values in `[start, stop)`.\n",
    "\n",
    "More delatis of the function can be found [here](https://docs.scipy.org/doc/numpy/reference/generated/numpy.arange.html)."
   ]
  },
  {
   "cell_type": "code",
   "execution_count": 44,
   "metadata": {
    "pycharm": {
     "name": "#%%\n"
    }
   },
   "outputs": [
    {
     "name": "stdout",
     "output_type": "stream",
     "text": [
      "Array:\n",
      "[0 1 2 3 4 5 6 7 8 9]\n",
      "Data type:\tint64\n",
      "Array shape:\t(10,)\n",
      "\n"
     ]
    }
   ],
   "source": [
    "# sequence array\n",
    "array = np.arange(10, dtype=np.int64)\n",
    "array_info(array)"
   ]
  },
  {
   "cell_type": "code",
   "execution_count": 45,
   "metadata": {
    "pycharm": {
     "name": "#%%\n"
    }
   },
   "outputs": [
    {
     "name": "stdout",
     "output_type": "stream",
     "text": [
      "Array:\n",
      "[5. 6. 7. 8. 9.]\n",
      "Data type:\tfloat64\n",
      "Array shape:\t(5,)\n",
      "\n"
     ]
    }
   ],
   "source": [
    "# sequence array\n",
    "array = np.arange(5, 10, dtype=np.float64)\n",
    "array_info(array)"
   ]
  },
  {
   "cell_type": "markdown",
   "metadata": {
    "pycharm": {
     "name": "#%% md\n"
    }
   },
   "source": [
    "**Zeroes Array**\n"
   ]
  },
  {
   "cell_type": "code",
   "execution_count": 46,
   "metadata": {
    "pycharm": {
     "name": "#%%\n"
    }
   },
   "outputs": [
    {
     "name": "stdout",
     "output_type": "stream",
     "text": [
      "Array:\n",
      "[[0. 0. 0.]\n",
      " [0. 0. 0.]]\n",
      "Data type:\tfloat32\n",
      "Array shape:\t(2, 3)\n",
      "\n"
     ]
    }
   ],
   "source": [
    "# Zero array/matrix\n",
    "zeros = np.zeros((2, 3), dtype=np.float32)\n",
    "array_info(zeros)"
   ]
  },
  {
   "cell_type": "markdown",
   "metadata": {
    "pycharm": {
     "name": "#%% md\n"
    }
   },
   "source": [
    "**Ones Array**\n"
   ]
  },
  {
   "cell_type": "code",
   "execution_count": 47,
   "metadata": {
    "pycharm": {
     "name": "#%%\n"
    }
   },
   "outputs": [
    {
     "name": "stdout",
     "output_type": "stream",
     "text": [
      "Array:\n",
      "[[1 1]\n",
      " [1 1]\n",
      " [1 1]]\n",
      "Data type:\tint8\n",
      "Array shape:\t(3, 2)\n",
      "\n"
     ]
    }
   ],
   "source": [
    "# ones array/matrix\n",
    "ones = np.ones((3, 2), dtype=np.int8)\n",
    "array_info(ones)"
   ]
  },
  {
   "cell_type": "markdown",
   "metadata": {
    "pycharm": {
     "name": "#%% md\n"
    }
   },
   "source": [
    "**Constant Array**\n"
   ]
  },
  {
   "cell_type": "code",
   "execution_count": 48,
   "metadata": {
    "pycharm": {
     "name": "#%%\n"
    }
   },
   "outputs": [
    {
     "name": "stdout",
     "output_type": "stream",
     "text": [
      "Array:\n",
      "[[3.14 3.14 3.14]\n",
      " [3.14 3.14 3.14]\n",
      " [3.14 3.14 3.14]]\n",
      "Data type:\tfloat64\n",
      "Array shape:\t(3, 3)\n",
      "\n"
     ]
    }
   ],
   "source": [
    "# constant array/matrix\n",
    "array = np.full((3, 3), 3.14)\n",
    "array_info(array)"
   ]
  },
  {
   "cell_type": "markdown",
   "metadata": {
    "pycharm": {
     "name": "#%% md\n"
    }
   },
   "source": [
    "**Identity Array**\n"
   ]
  },
  {
   "cell_type": "code",
   "execution_count": 49,
   "metadata": {
    "pycharm": {
     "name": "#%%\n"
    }
   },
   "outputs": [
    {
     "name": "stdout",
     "output_type": "stream",
     "text": [
      "Array:\n",
      "[[1. 0. 0. 0. 0.]\n",
      " [0. 1. 0. 0. 0.]\n",
      " [0. 0. 1. 0. 0.]\n",
      " [0. 0. 0. 1. 0.]\n",
      " [0. 0. 0. 0. 1.]]\n",
      "Data type:\tfloat32\n",
      "Array shape:\t(5, 5)\n",
      "\n"
     ]
    }
   ],
   "source": [
    "# identity array/matrix\n",
    "identity = np.eye(5, dtype=np.float32)      # identity matrix of shape 5x5\n",
    "array_info(identity)"
   ]
  },
  {
   "cell_type": "markdown",
   "metadata": {
    "pycharm": {
     "name": "#%% md\n"
    }
   },
   "source": [
    "**Random Integers Array**\n",
    "\n",
    "`np.random.randint(low, high=None, size=None, dtype='l')`\n",
    "\n",
    "Return random integer from the `discrete uniform` distribution in `[low, high)`. If high is `None`, then return elements are in `[0, low)`\n",
    "\n",
    "More details can be found [here](https://docs.scipy.org/doc/numpy-1.15.1/reference/generated/numpy.random.randint.html)."
   ]
  },
  {
   "cell_type": "code",
   "execution_count": 50,
   "metadata": {
    "pycharm": {
     "name": "#%%\n"
    }
   },
   "outputs": [
    {
     "name": "stdout",
     "output_type": "stream",
     "text": [
      "Array:\n",
      "[[6 8 8]\n",
      " [5 9 6]]\n",
      "Data type:\tint64\n",
      "Array shape:\t(2, 3)\n",
      "\n"
     ]
    }
   ],
   "source": [
    "# random integers array/matrix\n",
    "rand_int = np.random.randint(5, 10, (2,3)) # random integer array of shape 2x3, values lies in [5, 10)\n",
    "array_info(rand_int)"
   ]
  },
  {
   "cell_type": "markdown",
   "metadata": {
    "pycharm": {
     "name": "#%% md\n"
    }
   },
   "source": [
    "**Random Array**\n",
    "\n",
    "`np.random.random(size=None)`\n",
    "\n",
    "Results are from the `continuous uniform` distribution in `[0.0, 1.0)`.\n",
    "\n",
    "These types of functions are useful is initializing the weight in Deep Learning. More details and similar functions can found [here](https://docs.scipy.org/doc/numpy-1.14.0/reference/generated/numpy.random.random.html)."
   ]
  },
  {
   "cell_type": "code",
   "execution_count": 51,
   "metadata": {
    "pycharm": {
     "name": "#%%\n"
    }
   },
   "outputs": [
    {
     "name": "stdout",
     "output_type": "stream",
     "text": [
      "Array:\n",
      "[[0.7107646  0.36220719 0.56560888 0.31606556 0.74457929]\n",
      " [0.12566377 0.37652353 0.4220293  0.88088007 0.37444343]\n",
      " [0.85810053 0.57785423 0.98788856 0.7915028  0.37723164]\n",
      " [0.65581898 0.57325129 0.12434818 0.22854751 0.41182795]\n",
      " [0.80284543 0.79320759 0.66779371 0.64534275 0.05215703]]\n",
      "Data type:\tfloat64\n",
      "Array shape:\t(5, 5)\n",
      "\n"
     ]
    }
   ],
   "source": [
    "# random array/matrix\n",
    "random_array = np.random.random((5, 5))   # random array of shape 5x5\n",
    "array_info(random_array)"
   ]
  },
  {
   "cell_type": "markdown",
   "metadata": {
    "pycharm": {
     "name": "#%% md\n"
    }
   },
   "source": [
    "**Boolean Array**\n",
    "\n",
    "If we compare above `random_array` with some `constant` or `array` of the same shape, we will get a boolean array."
   ]
  },
  {
   "cell_type": "code",
   "execution_count": 52,
   "metadata": {
    "pycharm": {
     "name": "#%%\n"
    }
   },
   "outputs": [
    {
     "name": "stdout",
     "output_type": "stream",
     "text": [
      "Array:\n",
      "[[ True False  True False  True]\n",
      " [False False False  True False]\n",
      " [ True  True  True  True False]\n",
      " [ True  True False False False]\n",
      " [ True  True  True  True False]]\n",
      "Data type:\tbool\n",
      "Array shape:\t(5, 5)\n",
      "\n"
     ]
    }
   ],
   "source": [
    "# Boolean array/matrix\n",
    "bool_array = random_array > 0.5\n",
    "array_info(bool_array)"
   ]
  },
  {
   "cell_type": "markdown",
   "metadata": {
    "pycharm": {
     "name": "#%% md\n"
    }
   },
   "source": [
    "### <font style=\"color:rgb(8,133,37)\">1.5. Data type conversion</font>\n",
    "\n",
    "Sometimes it is essential to convert one data type to another data type."
   ]
  },
  {
   "cell_type": "code",
   "execution_count": 53,
   "metadata": {
    "pycharm": {
     "name": "#%%\n"
    }
   },
   "outputs": [
    {
     "name": "stdout",
     "output_type": "stream",
     "text": [
      "Array:\n",
      "[ 0 59 27 37 52 71 77 32 90  4]\n",
      "Data type:\tint64\n",
      "Array shape:\t(10,)\n",
      "\n"
     ]
    }
   ],
   "source": [
    "age_in_years = np.random.randint(0, 100, 10)\n",
    "array_info(age_in_years)"
   ]
  },
  {
   "cell_type": "code",
   "execution_count": 54,
   "metadata": {
    "pycharm": {
     "name": "#%%\n"
    }
   },
   "outputs": [
    {
     "name": "stdout",
     "output_type": "stream",
     "text": [
      "Array:\n",
      "[ 0 59 27 37 52 71 77 32 90  4]\n",
      "Data type:\tuint8\n",
      "Array shape:\t(10,)\n",
      "\n"
     ]
    }
   ],
   "source": [
    "age_in_years = age_in_years.astype(np.uint8)\n",
    "array_info(age_in_years)"
   ]
  },
  {
   "cell_type": "code",
   "execution_count": 55,
   "metadata": {
    "pycharm": {
     "name": "#%%\n"
    }
   },
   "outputs": [
    {
     "name": "stdout",
     "output_type": "stream",
     "text": [
      "Array:\n",
      "[ 0. 59. 27. 37. 52. 71. 77. 32. 90.  4.]\n",
      "Data type:\tfloat128\n",
      "Array shape:\t(10,)\n",
      "\n"
     ]
    }
   ],
   "source": [
    "age_in_years = age_in_years.astype(np.float128)\n",
    "array_info(age_in_years)"
   ]
  },
  {
   "cell_type": "markdown",
   "metadata": {
    "pycharm": {
     "name": "#%% md\n"
    }
   },
   "source": [
    "## <font color='blue'>2. Mathematical functions </font>\n",
    "\n",
    "Numpy supports a lot of Mathematical operations with array/matrix. Here we will see a few of them which are useful in Deep Learning. All supported functions can be found [here](https://docs.scipy.org/doc/numpy-1.13.0/reference/routines.math.html)."
   ]
  },
  {
   "cell_type": "markdown",
   "metadata": {
    "pycharm": {
     "name": "#%% md\n"
    }
   },
   "source": [
    "### <font style=\"color:rgb(8,133,37)\">2.1. Exponential Function </font>\n",
    "Exponential functions ( also called `exp` ) are used in neural networks as activations functions. They are used in softmax functions which is widely used in Classification tasks.\n",
    "\n",
    "Return element-wise `exponential` of `array`.\n",
    "\n",
    "More details of `np.exp` can be found **[here](https://docs.scipy.org/doc/numpy-1.13.0/reference/generated/numpy.exp.html#numpy.exp)**"
   ]
  },
  {
   "cell_type": "code",
   "execution_count": 56,
   "metadata": {
    "pycharm": {
     "name": "#%%\n"
    }
   },
   "outputs": [
    {
     "name": "stdout",
     "output_type": "stream",
     "text": [
      "Array:\n",
      "[[-1. -1. -1.]\n",
      " [ 0.  0.  0.]\n",
      " [ 1.  1.  1.]]\n",
      "Data type:\tfloat64\n",
      "Array shape:\t(3, 3)\n",
      "\n",
      "Exponential of an array:\n",
      "Array:\n",
      "[[0.36787944 0.36787944 0.36787944]\n",
      " [1.         1.         1.        ]\n",
      " [2.71828183 2.71828183 2.71828183]]\n",
      "Data type:\tfloat64\n",
      "Array shape:\t(3, 3)\n",
      "\n"
     ]
    }
   ],
   "source": [
    "array = np.array([np.full(3, -1), np.zeros(3), np.ones(3)])\n",
    "array_info(array)\n",
    "\n",
    "# exponential of a array/matrix\n",
    "print('Exponential of an array:')\n",
    "exp_array = np.exp(array)\n",
    "array_info(exp_array)"
   ]
  },
  {
   "cell_type": "markdown",
   "metadata": {
    "pycharm": {
     "name": "#%% md\n"
    }
   },
   "source": [
    "### <font style=\"color:rgb(8,133,37)\">2.2. Square Root </font>\n",
    "\n",
    "`np.sqrt` return the element-wise `square-root` (`non-negative`) of an array.\n",
    "\n",
    "More details of the function can be found [here](https://docs.scipy.org/doc/numpy/reference/generated/numpy.sqrt.html)\n",
    "\n",
    "`Root Mean Square Error` (`RMSE`) and `Mean Absolute Error` (`MAE`) commonly used to measure the `accuracy` of continuous variables."
   ]
  },
  {
   "cell_type": "code",
   "execution_count": 57,
   "metadata": {
    "pycharm": {
     "name": "#%%\n"
    }
   },
   "outputs": [
    {
     "name": "stdout",
     "output_type": "stream",
     "text": [
      "Array:\n",
      "[0 1 2 3 4 5 6 7 8 9]\n",
      "Data type:\tint64\n",
      "Array shape:\t(10,)\n",
      "\n",
      "Square root:\n",
      "Array:\n",
      "[0.         1.         1.41421356 1.73205081 2.         2.23606798\n",
      " 2.44948974 2.64575131 2.82842712 3.        ]\n",
      "Data type:\tfloat64\n",
      "Array shape:\t(10,)\n",
      "\n"
     ]
    }
   ],
   "source": [
    "array = np.arange(10)\n",
    "array_info(array)\n",
    "\n",
    "print('Square root:')\n",
    "root_array = np.sqrt(array)\n",
    "array_info(root_array)"
   ]
  },
  {
   "cell_type": "markdown",
   "metadata": {
    "pycharm": {
     "name": "#%% md\n"
    }
   },
   "source": [
    "### <font style=\"color:rgb(8,133,37)\">2.3. Logrithm </font>\n",
    "\n",
    "`np.log` return element-wise natural logrithm of an array.\n",
    "\n",
    "More details of the function can be found [here](https://docs.scipy.org/doc/numpy/reference/generated/numpy.log.html)\n",
    "\n",
    "`Cross-Entropy` / `log loss` is the most commonly used loss in Machine Learning classification problem."
   ]
  },
  {
   "cell_type": "code",
   "execution_count": 58,
   "metadata": {
    "pycharm": {
     "name": "#%%\n"
    }
   },
   "outputs": [
    {
     "name": "stdout",
     "output_type": "stream",
     "text": [
      "Array:\n",
      "[ 1.          2.71828183  7.3890561   1.         10.        ]\n",
      "Data type:\tfloat64\n",
      "Array shape:\t(5,)\n",
      "\n",
      "Logrithm:\n",
      "Array:\n",
      "[0.         1.         2.         0.         2.30258509]\n",
      "Data type:\tfloat64\n",
      "Array shape:\t(5,)\n",
      "\n"
     ]
    }
   ],
   "source": [
    "array = np.array([1, np.e, np.e**2, 1, 10])\n",
    "array_info(array)\n",
    "\n",
    "print('Logrithm:')\n",
    "log_array = np.log(array)\n",
    "array_info(log_array)"
   ]
  },
  {
   "cell_type": "markdown",
   "metadata": {
    "pycharm": {
     "name": "#%% md\n"
    }
   },
   "source": [
    "### <font style=\"color:rgb(8,133,37)\">2.4. Power </font>\n",
    "\n",
    "`numpy.power(x1, x2)`\n",
    "\n",
    "Returns first array elements raised to powers from second array, element-wise.\n",
    "\n",
    "Second array must be broadcastable to first array.\n",
    "\n",
    "What is **broadcasting**? We will see later.\n",
    "\n",
    "More detalis about the function can be found [here](https://docs.scipy.org/doc/numpy/reference/generated/numpy.power.html)"
   ]
  },
  {
   "cell_type": "code",
   "execution_count": 59,
   "metadata": {
    "pycharm": {
     "name": "#%%\n"
    }
   },
   "outputs": [
    {
     "name": "stdout",
     "output_type": "stream",
     "text": [
      "Array:\n",
      "[0 1 2 3 4 5]\n",
      "Data type:\tint64\n",
      "Array shape:\t(6,)\n",
      "\n",
      "Power 3:\n",
      "Array:\n",
      "[  0   1   8  27  64 125]\n",
      "Data type:\tint64\n",
      "Array shape:\t(6,)\n",
      "\n"
     ]
    }
   ],
   "source": [
    "array = np.arange(0, 6, dtype=np.int64)\n",
    "array_info(array)\n",
    "\n",
    "print('Power 3:')\n",
    "pow_array = np.power(array, 3)\n",
    "array_info(pow_array)"
   ]
  },
  {
   "cell_type": "markdown",
   "metadata": {
    "pycharm": {
     "name": "#%% md\n"
    }
   },
   "source": [
    "### <font style=\"color:rgb(8,133,37)\">2.5. Clip Values </font>\n",
    "\n",
    "`np.clip(a, a_min, a_max)`\n",
    "\n",
    "Return element-wise cliped values between `a_min` and `a_max`.\n",
    "\n",
    "More details of the finction can be found [here](https://docs.scipy.org/doc/numpy/reference/generated/numpy.clip.html)\n",
    "\n",
    "`Rectified Linear Unit` (`ReLU`) is the most commonly used activation function in Deep Learning.\n",
    "\n",
    "What ReLU do?\n",
    "\n",
    "If the value is less than zero, it makes it zero otherwise leave as it is. In NumPy assignment will be implementing this activation function using NumPy."
   ]
  },
  {
   "cell_type": "code",
   "execution_count": 60,
   "metadata": {
    "pycharm": {
     "name": "#%%\n"
    }
   },
   "outputs": [
    {
     "name": "stdout",
     "output_type": "stream",
     "text": [
      "Array:\n",
      "[[0.6348076  0.61306632 0.20749883]\n",
      " [0.49494183 0.13287421 0.50310419]\n",
      " [0.56882461 0.11163352 0.62738899]]\n",
      "Data type:\tfloat64\n",
      "Array shape:\t(3, 3)\n",
      "\n",
      "Clipped between 0.2 and 0.5\n",
      "Array:\n",
      "[[0.5        0.5        0.20749883]\n",
      " [0.49494183 0.2        0.5       ]\n",
      " [0.5        0.2        0.5       ]]\n",
      "Data type:\tfloat64\n",
      "Array shape:\t(3, 3)\n",
      "\n",
      "Clipped to 0.2\n",
      "Array:\n",
      "[[0.6348076  0.61306632 0.20749883]\n",
      " [0.49494183 0.2        0.50310419]\n",
      " [0.56882461 0.2        0.62738899]]\n",
      "Data type:\tfloat64\n",
      "Array shape:\t(3, 3)\n",
      "\n"
     ]
    }
   ],
   "source": [
    "array = np.random.random((3, 3))\n",
    "array_info(array)\n",
    "\n",
    "# clipped between 0.2 and 0.5\n",
    "print('Clipped between 0.2 and 0.5')\n",
    "cliped_array = np.clip(array, 0.2, 0.5)\n",
    "array_info(cliped_array)\n",
    "\n",
    "# clipped to 0.2\n",
    "print('Clipped to 0.2')\n",
    "cliped_array = np.clip(array, 0.2, np.inf)\n",
    "array_info(cliped_array)"
   ]
  },
  {
   "cell_type": "markdown",
   "metadata": {
    "pycharm": {
     "name": "#%% md\n"
    }
   },
   "source": [
    "## <font color='blue'>3. Reshape ndarray </font>\n",
    "\n",
    "Reshaping the array / matrix is very often required in Machine Learning and Computer vision."
   ]
  },
  {
   "cell_type": "markdown",
   "metadata": {
    "pycharm": {
     "name": "#%% md\n"
    }
   },
   "source": [
    "### <font style=\"color:rgb(8,133,37)\">3.1. Reshape </font>\n",
    "\n",
    "`np.reshape` gives an array in new shape, without changing its data.\n",
    "\n",
    "More details of the function can be found [here](https://docs.scipy.org/doc/numpy/reference/generated/numpy.reshape.html)\n"
   ]
  },
  {
   "cell_type": "code",
   "execution_count": 64,
   "metadata": {
    "pycharm": {
     "name": "#%%\n"
    }
   },
   "outputs": [
    {
     "name": "stdout",
     "output_type": "stream",
     "text": [
      "Array:\n",
      "[1 2 3 4 5 6 7 8 9]\n",
      "Data type:\tint64\n",
      "Array shape:\t(9,)\n",
      "\n",
      "Reshape to 3x3:\n",
      "Array:\n",
      "[[1 2 3]\n",
      " [4 5 6]\n",
      " [7 8 9]]\n",
      "Data type:\tint64\n",
      "Array shape:\t(3, 3)\n",
      "\n",
      "Reshape 3x3 to 3x3x1:\n",
      "Array:\n",
      "[[[1]\n",
      "  [2]\n",
      "  [3]]\n",
      "\n",
      " [[4]\n",
      "  [5]\n",
      "  [6]]\n",
      "\n",
      " [[7]\n",
      "  [8]\n",
      "  [9]]]\n",
      "Data type:\tint64\n",
      "Array shape:\t(3, 3, 1)\n",
      "\n"
     ]
    }
   ],
   "source": [
    "a = np.arange(1, 10, dtype=np.int64)\n",
    "array_info(a)\n",
    "\n",
    "print('Reshape to 3x3:')\n",
    "a_3x3 = a.reshape(3, 3)\n",
    "array_info(a_3x3)\n",
    "\n",
    "print('Reshape 3x3 to 3x3x1:')\n",
    "a_3x3x1 = a_3x3.reshape(3, 3, 1)\n",
    "array_info(a_3x3x1)"
   ]
  },
  {
   "cell_type": "markdown",
   "metadata": {
    "pycharm": {
     "name": "#%% md\n"
    }
   },
   "source": [
    "### <font style=\"color:rgb(8,133,37)\">3.2. Expand Dim </font>\n",
    "\n",
    "`np.expand_dims`\n",
    "\n",
    "In the last reshape, we have added a new axis. We can use `np.expand_dims` or `np.newaxis` to do the same thing.\n",
    "\n",
    "Mode details for `np.expand_dim` can be found [here](https://docs.scipy.org/doc/numpy/reference/generated/numpy.expand_dims.html)"
   ]
  },
  {
   "cell_type": "code",
   "execution_count": 62,
   "metadata": {
    "pycharm": {
     "name": "#%%\n"
    }
   },
   "outputs": [
    {
     "name": "stdout",
     "output_type": "stream",
     "text": [
      "Using np.expand_dims:\n",
      "Array:\n",
      "[[[1]\n",
      "  [2]\n",
      "  [3]]\n",
      "\n",
      " [[4]\n",
      "  [5]\n",
      "  [6]]\n",
      "\n",
      " [[7]\n",
      "  [8]\n",
      "  [9]]]\n",
      "Data type:\tint64\n",
      "Array shape:\t(3, 3, 1)\n",
      "\n",
      "Using np.newaxis:\n",
      "Array:\n",
      "[[[1]\n",
      "  [2]\n",
      "  [3]]\n",
      "\n",
      " [[4]\n",
      "  [5]\n",
      "  [6]]\n",
      "\n",
      " [[7]\n",
      "  [8]\n",
      "  [9]]]\n",
      "Data type:\tint64\n",
      "Array shape:\t(3, 3, 1)\n",
      "\n"
     ]
    }
   ],
   "source": [
    "print('Using np.expand_dims:')\n",
    "a_expand = np.expand_dims(a_3x3, axis=2)\n",
    "array_info(a_expand)\n",
    "\n",
    "print('Using np.newaxis:')\n",
    "a_newaxis = a_3x3[..., np.newaxis]\n",
    "# or\n",
    "# a_newaxis = a_3x3[:, :, np.newaxis]\n",
    "array_info(a_newaxis)"
   ]
  },
  {
   "cell_type": "markdown",
   "metadata": {
    "pycharm": {
     "name": "#%% md\n"
    }
   },
   "source": [
    "### <font style=\"color:rgb(8,133,37)\">3.3. Squeeze </font>\n",
    "\n",
    "Sometimes we need to remove the redundant axis (single-dimensional entries). We can use `np.squeeze` to do this.\n",
    "\n",
    "More details of `np.squeeze` can be found [here](https://docs.scipy.org/doc/numpy/reference/generated/numpy.squeeze.html)\n",
    "\n",
    "Deep Learning very often uses this functionality."
   ]
  },
  {
   "cell_type": "code",
   "execution_count": 94,
   "metadata": {},
   "outputs": [
    {
     "data": {
      "text/plain": [
       "(3, 3, 1)"
      ]
     },
     "execution_count": 94,
     "metadata": {},
     "output_type": "execute_result"
    }
   ],
   "source": [
    "a_newaxis.shape"
   ]
  },
  {
   "cell_type": "code",
   "execution_count": 95,
   "metadata": {
    "pycharm": {
     "name": "#%%\n"
    }
   },
   "outputs": [
    {
     "name": "stdout",
     "output_type": "stream",
     "text": [
      "Squeeze along axis=2:\n",
      "Array:\n",
      "[[1 2 3]\n",
      " [4 5 6]\n",
      " [7 8 9]]\n",
      "Data type:\tint64\n",
      "Array shape:\t(3, 3)\n",
      "\n"
     ]
    }
   ],
   "source": [
    "print('Squeeze along axis=2:')\n",
    "a_squeezed = np.squeeze(a_newaxis, axis=2)\n",
    "array_info(a_squeezed)\n",
    "\n",
    "# should get value error\n",
    "# print('Squeeze along axis=1, should get ValueError')\n",
    "# a_squeezed_error = np.squeeze(a_newaxis, axis=1)  # Getting error because of the size of\n",
    "                                                  # axis-1 is not equal to one."
   ]
  },
  {
   "cell_type": "markdown",
   "metadata": {
    "pycharm": {
     "name": "#%% md\n"
    }
   },
   "source": [
    "### <font style=\"color:rgb(8,133,37)\">3.4. Reshape revisit </font>\n",
    "\n",
    "We have a 1-d array of length n. We want to reshape in a 2-d array such that the number of columns becomes two, and we do not care about the number of rows."
   ]
  },
  {
   "cell_type": "code",
   "execution_count": 65,
   "metadata": {
    "pycharm": {
     "name": "#%%\n"
    }
   },
   "outputs": [
    {
     "name": "stdout",
     "output_type": "stream",
     "text": [
      "Array:\n",
      "[0 1 2 3 4 5 6 7 8 9]\n",
      "Data type:\tint64\n",
      "Array shape:\t(10,)\n",
      "\n",
      "Reshape such that number of column is 2:\n",
      "Array:\n",
      "[[0 1]\n",
      " [2 3]\n",
      " [4 5]\n",
      " [6 7]\n",
      " [8 9]]\n",
      "Data type:\tint64\n",
      "Array shape:\t(5, 2)\n",
      "\n"
     ]
    }
   ],
   "source": [
    "a = np.arange(10)\n",
    "array_info(a)\n",
    "\n",
    "print('Reshape such that number of column is 2:')\n",
    "a_col_2 = a.reshape(-1, 2)\n",
    "array_info(a_col_2)"
   ]
  },
  {
   "cell_type": "markdown",
   "metadata": {
    "pycharm": {
     "name": "#%% md\n"
    }
   },
   "source": [
    "## <font color='blue'>4. Combine Arrays / Matrix </font>\n",
    "\n",
    "Combining two or more arrays is a frequent operation in machine learning. Let's have a look at a few methods.\n"
   ]
  },
  {
   "cell_type": "markdown",
   "metadata": {
    "pycharm": {
     "name": "#%% md\n"
    }
   },
   "source": [
    "### <font style=\"color:rgb(8,133,37)\">4.1. Concatenate </font>\n",
    "\n",
    "`np.concatenate`, Join a sequence of arrays along an existing axis.\n",
    "\n",
    "More details of the function find [here](https://docs.scipy.org/doc/numpy/reference/generated/numpy.concatenate.html)"
   ]
  },
  {
   "cell_type": "code",
   "execution_count": 66,
   "metadata": {
    "pycharm": {
     "name": "#%%\n"
    }
   },
   "outputs": [
    {
     "name": "stdout",
     "output_type": "stream",
     "text": [
      "Concatenate along axis zero:\n",
      "Array:\n",
      "[[1 2 3]\n",
      " [4 5 6]\n",
      " [7 8 9]]\n",
      "Data type:\tint64\n",
      "Array shape:\t(3, 3)\n",
      "\n"
     ]
    }
   ],
   "source": [
    "a1 = np.array([[1, 2, 3], [4, 5, 6]])\n",
    "a2 = np.array([[7, 8, 9]])\n",
    "\n",
    "print('Concatenate along axis zero:')\n",
    "array = np.concatenate((a1, a2), axis=0)\n",
    "array_info(array)"
   ]
  },
  {
   "cell_type": "markdown",
   "metadata": {
    "pycharm": {
     "name": "#%% md\n"
    }
   },
   "source": [
    "### <font style=\"color:rgb(8,133,37)\">4.2. hstack </font>\n",
    "\n",
    "`np.hstack`, stack arrays in sequence horizontally (column-wise).\n",
    "\n",
    "More details of the function find [here](https://docs.scipy.org/doc/numpy/reference/generated/numpy.hstack.html#numpy.hstack)"
   ]
  },
  {
   "cell_type": "code",
   "execution_count": 67,
   "metadata": {
    "pycharm": {
     "name": "#%%\n"
    }
   },
   "outputs": [
    {
     "name": "stdout",
     "output_type": "stream",
     "text": [
      "Horizontal stack:\n",
      "Array:\n",
      "[1 2 3 4 5 6]\n",
      "Data type:\tint64\n",
      "Array shape:\t(6,)\n",
      "\n"
     ]
    }
   ],
   "source": [
    "a1 = np.array((1, 2, 3))\n",
    "a2 = np.array((4, 5, 6))\n",
    "a_hstacked = np.hstack((a1,a2))\n",
    "\n",
    "print('Horizontal stack:')\n",
    "array_info(a_hstacked)"
   ]
  },
  {
   "cell_type": "code",
   "execution_count": 68,
   "metadata": {
    "pycharm": {
     "name": "#%%\n"
    }
   },
   "outputs": [
    {
     "name": "stdout",
     "output_type": "stream",
     "text": [
      "Horizontal stack:\n",
      "Array:\n",
      "[[1 4]\n",
      " [2 5]\n",
      " [3 6]]\n",
      "Data type:\tint64\n",
      "Array shape:\t(3, 2)\n",
      "\n"
     ]
    }
   ],
   "source": [
    "a1 = np.array([[1],[2],[3]])\n",
    "a2 = np.array([[4],[5],[6]])\n",
    "a_hstacked = np.hstack((a1,a2))\n",
    "\n",
    "print('Horizontal stack:')\n",
    "array_info(a_hstacked)"
   ]
  },
  {
   "cell_type": "markdown",
   "metadata": {
    "pycharm": {
     "name": "#%% md\n"
    }
   },
   "source": [
    "### <font style=\"color:rgb(8,133,37)\">4.3. vstack </font>\n",
    "\n",
    "`np.vstack`, tack arrays in sequence vertically (row-wise).\n",
    "\n",
    "More details of the function find [here](https://docs.scipy.org/doc/numpy/reference/generated/numpy.vstack.html#numpy.vstack)"
   ]
  },
  {
   "cell_type": "code",
   "execution_count": 69,
   "metadata": {
    "pycharm": {
     "name": "#%%\n"
    }
   },
   "outputs": [
    {
     "name": "stdout",
     "output_type": "stream",
     "text": [
      "Vertical stack:\n",
      "Array:\n",
      "[[1 2 3]\n",
      " [4 5 6]]\n",
      "Data type:\tint64\n",
      "Array shape:\t(2, 3)\n",
      "\n"
     ]
    }
   ],
   "source": [
    "a1 = np.array([1, 2, 3])\n",
    "a2 = np.array([4, 5, 6])\n",
    "a_vstacked = np.vstack((a1, a2))\n",
    "\n",
    "print('Vertical stack:')\n",
    "array_info(a_vstacked)"
   ]
  },
  {
   "cell_type": "code",
   "execution_count": 70,
   "metadata": {
    "pycharm": {
     "name": "#%%\n"
    }
   },
   "outputs": [
    {
     "name": "stdout",
     "output_type": "stream",
     "text": [
      "Vertical stack:\n",
      "Array:\n",
      "[[ 1 11]\n",
      " [ 2 22]\n",
      " [ 3 33]\n",
      " [ 4 44]\n",
      " [ 5 55]\n",
      " [ 6 66]]\n",
      "Data type:\tint64\n",
      "Array shape:\t(6, 2)\n",
      "\n"
     ]
    }
   ],
   "source": [
    "a1 = np.array([[1, 11], [2, 22], [3, 33]])\n",
    "a2 = np.array([[4, 44], [5, 55], [6, 66]])\n",
    "a_vstacked = np.vstack((a1, a2))\n",
    "\n",
    "print('Vertical stack:')\n",
    "array_info(a_vstacked)"
   ]
  },
  {
   "cell_type": "markdown",
   "metadata": {
    "pycharm": {
     "name": "#%% md\n"
    }
   },
   "source": [
    "## <font color='blue'>5. Element wise Operations </font>\n"
   ]
  },
  {
   "cell_type": "code",
   "execution_count": 71,
   "metadata": {
    "pycharm": {
     "name": "#%%\n"
    }
   },
   "outputs": [
    {
     "name": "stdout",
     "output_type": "stream",
     "text": [
      "Array:\n",
      "[[0.17694138 0.69589421 0.92968613 0.09941835]\n",
      " [0.41896759 0.00930806 0.15170833 0.93628477]\n",
      " [0.83533443 0.85924203 0.39773266 0.2800945 ]\n",
      " [0.70820533 0.99253318 0.20604955 0.08085826]]\n",
      "Data type:\tfloat64\n",
      "Array shape:\t(4, 4)\n",
      "\n",
      "Array:\n",
      "[[0.61851056 0.13122548 0.35730668 0.89341592]\n",
      " [0.81477992 0.42452628 0.60779279 0.66093544]\n",
      " [0.45592834 0.57908603 0.18452506 0.91982847]\n",
      " [0.70118699 0.36590505 0.4950989  0.5986261 ]]\n",
      "Data type:\tfloat64\n",
      "Array shape:\t(4, 4)\n",
      "\n"
     ]
    }
   ],
   "source": [
    "a = np.random.random((4,4))\n",
    "b = np.random.random((4,4))\n",
    "array_info(a)\n",
    "array_info(b)"
   ]
  },
  {
   "cell_type": "markdown",
   "metadata": {
    "pycharm": {
     "name": "#%% md\n"
    }
   },
   "source": [
    "### <font style=\"color:rgb(8,133,37)\">5.1. Element wise Scalar Operation </font>"
   ]
  },
  {
   "cell_type": "code",
   "execution_count": 72,
   "metadata": {
    "pycharm": {
     "name": "#%%\n"
    }
   },
   "outputs": [
    {
     "data": {
      "text/plain": [
       "array([[5.17694138, 5.69589421, 5.92968613, 5.09941835],\n",
       "       [5.41896759, 5.00930806, 5.15170833, 5.93628477],\n",
       "       [5.83533443, 5.85924203, 5.39773266, 5.2800945 ],\n",
       "       [5.70820533, 5.99253318, 5.20604955, 5.08085826]])"
      ]
     },
     "execution_count": 72,
     "metadata": {},
     "output_type": "execute_result"
    }
   ],
   "source": [
    "a + 5 # element wise scalar addition"
   ]
  },
  {
   "cell_type": "code",
   "execution_count": 73,
   "metadata": {
    "pycharm": {
     "name": "#%%\n"
    }
   },
   "outputs": [
    {
     "data": {
      "text/plain": [
       "array([[-4.82305862, -4.30410579, -4.07031387, -4.90058165],\n",
       "       [-4.58103241, -4.99069194, -4.84829167, -4.06371523],\n",
       "       [-4.16466557, -4.14075797, -4.60226734, -4.7199055 ],\n",
       "       [-4.29179467, -4.00746682, -4.79395045, -4.91914174]])"
      ]
     },
     "execution_count": 73,
     "metadata": {},
     "output_type": "execute_result"
    }
   ],
   "source": [
    "a - 5 # element wise scalar subtraction"
   ]
  },
  {
   "cell_type": "code",
   "execution_count": 74,
   "metadata": {
    "pycharm": {
     "name": "#%%\n"
    }
   },
   "outputs": [
    {
     "data": {
      "text/plain": [
       "array([[1.76941384, 6.95894208, 9.29686133, 0.99418348],\n",
       "       [4.18967589, 0.09308061, 1.5170833 , 9.36284769],\n",
       "       [8.35334428, 8.59242032, 3.9773266 , 2.80094499],\n",
       "       [7.0820533 , 9.9253318 , 2.06049546, 0.8085826 ]])"
      ]
     },
     "execution_count": 74,
     "metadata": {},
     "output_type": "execute_result"
    }
   ],
   "source": [
    "a * 10 # element wise scalar multiplication"
   ]
  },
  {
   "cell_type": "code",
   "execution_count": 75,
   "metadata": {
    "pycharm": {
     "name": "#%%\n"
    }
   },
   "outputs": [
    {
     "data": {
      "text/plain": [
       "array([[0.01769414, 0.06958942, 0.09296861, 0.00994183],\n",
       "       [0.04189676, 0.00093081, 0.01517083, 0.09362848],\n",
       "       [0.08353344, 0.0859242 , 0.03977327, 0.02800945],\n",
       "       [0.07082053, 0.09925332, 0.02060495, 0.00808583]])"
      ]
     },
     "execution_count": 75,
     "metadata": {},
     "output_type": "execute_result"
    }
   ],
   "source": [
    "a/10 # element wise scalar division"
   ]
  },
  {
   "cell_type": "markdown",
   "metadata": {
    "pycharm": {
     "name": "#%% md\n"
    }
   },
   "source": [
    "### <font style=\"color:rgb(8,133,37)\">5.2. Element wise Array Operations </font>\n"
   ]
  },
  {
   "cell_type": "code",
   "execution_count": 76,
   "metadata": {
    "pycharm": {
     "name": "#%%\n"
    }
   },
   "outputs": [
    {
     "data": {
      "text/plain": [
       "array([[0.79545194, 0.82711968, 1.28699281, 0.99283427],\n",
       "       [1.23374751, 0.43383434, 0.75950112, 1.59722021],\n",
       "       [1.29126277, 1.43832807, 0.58225772, 1.19992297],\n",
       "       [1.40939232, 1.35843823, 0.70114845, 0.67948436]])"
      ]
     },
     "execution_count": 76,
     "metadata": {},
     "output_type": "execute_result"
    }
   ],
   "source": [
    "a + b # element wise array/vector addition"
   ]
  },
  {
   "cell_type": "code",
   "execution_count": 77,
   "metadata": {
    "pycharm": {
     "name": "#%%\n"
    }
   },
   "outputs": [
    {
     "data": {
      "text/plain": [
       "array([[-0.44156917,  0.56466873,  0.57237945, -0.79399757],\n",
       "       [-0.39581233, -0.41521822, -0.45608445,  0.27534933],\n",
       "       [ 0.37940609,  0.280156  ,  0.2132076 , -0.63973397],\n",
       "       [ 0.00701834,  0.62662813, -0.28904936, -0.51776784]])"
      ]
     },
     "execution_count": 77,
     "metadata": {},
     "output_type": "execute_result"
    }
   ],
   "source": [
    "a - b # element wise array/vector subtraction"
   ]
  },
  {
   "cell_type": "code",
   "execution_count": 78,
   "metadata": {
    "pycharm": {
     "name": "#%%\n"
    }
   },
   "outputs": [
    {
     "data": {
      "text/plain": [
       "array([[0.10944011, 0.09131905, 0.33218306, 0.08882194],\n",
       "       [0.34136638, 0.00395152, 0.09220723, 0.61882378],\n",
       "       [0.38085264, 0.49757506, 0.07339164, 0.25763889],\n",
       "       [0.49658436, 0.3631729 , 0.1020149 , 0.04840387]])"
      ]
     },
     "execution_count": 78,
     "metadata": {},
     "output_type": "execute_result"
    }
   ],
   "source": [
    "a * b # element wise array/vector multiplication"
   ]
  },
  {
   "cell_type": "code",
   "execution_count": 79,
   "metadata": {
    "pycharm": {
     "name": "#%%\n"
    }
   },
   "outputs": [
    {
     "data": {
      "text/plain": [
       "array([[0.28607658, 5.30304202, 2.60192766, 0.11127891],\n",
       "       [0.51420951, 0.02192576, 0.24960535, 1.41660549],\n",
       "       [1.83216167, 1.48378994, 2.15543977, 0.30450732],\n",
       "       [1.01000923, 2.71254299, 0.41617855, 0.13507306]])"
      ]
     },
     "execution_count": 79,
     "metadata": {},
     "output_type": "execute_result"
    }
   ],
   "source": [
    "a / b # element wise array/vector division"
   ]
  },
  {
   "cell_type": "code",
   "execution_count": 80,
   "metadata": {
    "pycharm": {
     "name": "#%%\n"
    }
   },
   "outputs": [
    {
     "name": "stdout",
     "output_type": "stream",
     "text": [
      "Array \"a\":\n",
      "Array:\n",
      "[[0.17694138 0.69589421 0.92968613 0.09941835]\n",
      " [0.41896759 0.00930806 0.15170833 0.93628477]\n",
      " [0.83533443 0.85924203 0.39773266 0.2800945 ]\n",
      " [0.70820533 0.99253318 0.20604955 0.08085826]]\n",
      "Data type:\tfloat64\n",
      "Array shape:\t(4, 4)\n",
      "\n",
      "Array \"c\":\n",
      "Array:\n",
      "[[0.67908715 0.65814975]\n",
      " [0.07906119 0.41856966]]\n",
      "Data type:\tfloat64\n",
      "Array shape:\t(2, 2)\n",
      "\n"
     ]
    },
    {
     "ename": "ValueError",
     "evalue": "operands could not be broadcast together with shapes (4,4) (2,2) ",
     "output_type": "error",
     "traceback": [
      "\u001b[0;31m---------------------------------------------------------------------------\u001b[0m",
      "\u001b[0;31mValueError\u001b[0m                                Traceback (most recent call last)",
      "\u001b[0;32m/var/folders/9k/97g61mvs3jq0nxttlc5zyt9r0000gn/T/ipykernel_5867/2560625898.py\u001b[0m in \u001b[0;36m<module>\u001b[0;34m\u001b[0m\n\u001b[1;32m      5\u001b[0m \u001b[0marray_info\u001b[0m\u001b[0;34m(\u001b[0m\u001b[0mc\u001b[0m\u001b[0;34m)\u001b[0m\u001b[0;34m\u001b[0m\u001b[0;34m\u001b[0m\u001b[0m\n\u001b[1;32m      6\u001b[0m \u001b[0;31m# Should throw ValueError\u001b[0m\u001b[0;34m\u001b[0m\u001b[0;34m\u001b[0m\u001b[0m\n\u001b[0;32m----> 7\u001b[0;31m \u001b[0ma\u001b[0m \u001b[0;34m+\u001b[0m \u001b[0mc\u001b[0m\u001b[0;34m\u001b[0m\u001b[0;34m\u001b[0m\u001b[0m\n\u001b[0m",
      "\u001b[0;31mValueError\u001b[0m: operands could not be broadcast together with shapes (4,4) (2,2) "
     ]
    }
   ],
   "source": [
    "print('Array \"a\":')\n",
    "array_info(a)\n",
    "print('Array \"c\":')\n",
    "c = np.random.rand(2, 2)\n",
    "array_info(c)\n",
    "# Should throw ValueError\n",
    "a + c"
   ]
  },
  {
   "cell_type": "markdown",
   "metadata": {
    "pycharm": {
     "name": "#%% md\n"
    }
   },
   "source": [
    "### <font style=\"color:rgb(8,133,37)\">5.3. Broadcasting </font>\n",
    "\n",
    "There is a concept of broadcasting in NumPy, which tries to copy rows or columns in the lower-dimensional array to make an equal dimensional array of higher-dimensional array.\n",
    "\n",
    "Let's try to understand with a simple example."
   ]
  },
  {
   "cell_type": "code",
   "execution_count": 81,
   "metadata": {
    "pycharm": {
     "name": "#%%\n"
    }
   },
   "outputs": [
    {
     "name": "stdout",
     "output_type": "stream",
     "text": [
      "Array \"a\":\n",
      "Array:\n",
      "[[1 2 3]\n",
      " [4 5 6]\n",
      " [7 8 9]]\n",
      "Data type:\tint64\n",
      "Array shape:\t(3, 3)\n",
      "\n",
      "Array \"b\":\n",
      "Array:\n",
      "[0 1 0]\n",
      "Data type:\tint64\n",
      "Array shape:\t(3,)\n",
      "\n",
      "Array \"a+b\":\n",
      "Array:\n",
      "[[1 3 3]\n",
      " [4 6 6]\n",
      " [7 9 9]]\n",
      "Data type:\tint64\n",
      "Array shape:\t(3, 3)\n",
      "\n"
     ]
    }
   ],
   "source": [
    "a = np.array([[1, 2, 3], [4, 5, 6],[7, 8, 9]])\n",
    "b = np.array([0, 1, 0])\n",
    "\n",
    "print('Array \"a\":')\n",
    "array_info(a)\n",
    "print('Array \"b\":')\n",
    "array_info(b)\n",
    "\n",
    "print('Array \"a+b\":')\n",
    "array_info(a+b)  # b is reshaped such that it can be added to a.\n",
    "\n",
    "\n",
    "# b = [0,1,0] is broadcasted to     [[0, 1, 0],\n",
    "#                                    [0, 1, 0],\n",
    "#                                    [0, 1, 0]]  and added to a."
   ]
  },
  {
   "cell_type": "markdown",
   "metadata": {
    "pycharm": {
     "name": "#%% md\n"
    }
   },
   "source": [
    "## <font color='blue'>6. Linear Algebra</font>\n",
    "\n",
    "Here we see commonly use linear algebra operations in Machine Learning."
   ]
  },
  {
   "cell_type": "markdown",
   "metadata": {
    "pycharm": {
     "name": "#%% md\n"
    }
   },
   "source": [
    "### <font style=\"color:rgb(8,133,37)\">6.1. Transpose </font>\n"
   ]
  },
  {
   "cell_type": "code",
   "execution_count": 82,
   "metadata": {
    "pycharm": {
     "name": "#%%\n"
    }
   },
   "outputs": [
    {
     "name": "stdout",
     "output_type": "stream",
     "text": [
      "Array \"a\":\n",
      "Array:\n",
      "[[0.87310871 0.96593741 0.83405913]\n",
      " [0.75698328 0.70053423 0.76384432]]\n",
      "Data type:\tfloat64\n",
      "Array shape:\t(2, 3)\n",
      "\n",
      "Transose of \"a\":\n",
      "Array:\n",
      "[[0.87310871 0.75698328]\n",
      " [0.96593741 0.70053423]\n",
      " [0.83405913 0.76384432]]\n",
      "Data type:\tfloat64\n",
      "Array shape:\t(3, 2)\n",
      "\n"
     ]
    }
   ],
   "source": [
    "a = np.random.random((2,3))\n",
    "print('Array \"a\":')\n",
    "array_info(a)\n",
    "\n",
    "print('Transose of \"a\":')\n",
    "a_transpose = a.transpose()\n",
    "array_info(a_transpose)"
   ]
  },
  {
   "cell_type": "markdown",
   "metadata": {
    "pycharm": {
     "name": "#%% md\n"
    }
   },
   "source": [
    "### <font style=\"color:rgb(8,133,37)\">6.2. Matrix Multiplication</font>\n",
    "We will discuss 2 ways of performing Matrix Multiplication.\n",
    "\n",
    "- `matmul`\n",
    "- Python `@` operator\n",
    "\n",
    "**Using matmul function in numpy**\n",
    "This is the most used approach for multiplying two matrices using Numpy. [See docs](https://docs.scipy.org/doc/numpy/reference/generated/numpy.matmul.html)"
   ]
  },
  {
   "cell_type": "code",
   "execution_count": 83,
   "metadata": {
    "pycharm": {
     "name": "#%%\n"
    }
   },
   "outputs": [
    {
     "name": "stdout",
     "output_type": "stream",
     "text": [
      "Array \"a\":\n",
      "Array:\n",
      "[[0.25598463 0.11268454 0.91047894 0.19156728]\n",
      " [0.91928768 0.6600787  0.14807884 0.20857455]\n",
      " [0.70812449 0.07545561 0.29716475 0.76406772]]\n",
      "Data type:\tfloat64\n",
      "Array shape:\t(3, 4)\n",
      "\n",
      "Array \"b\"\n",
      "Array:\n",
      "[[0.0195098  0.68115098]\n",
      " [0.92865672 0.21312278]\n",
      " [0.86334053 0.27734624]\n",
      " [0.35088681 0.03721006]]\n",
      "Data type:\tfloat64\n",
      "Array shape:\t(4, 2)\n",
      "\n",
      "matrix multiplication of a and b:\n",
      "Array:\n",
      "[[0.96291126 0.45802597]\n",
      " [0.83195016 0.81568169]\n",
      " [0.60854338 0.60926953]]\n",
      "Data type:\tfloat64\n",
      "Array shape:\t(3, 2)\n",
      "\n",
      "(3, 4) x (4, 2) --> (3, 2)\n"
     ]
    }
   ],
   "source": [
    "a = np.random.random((3, 4))\n",
    "b = np.random.random((4, 2))\n",
    "\n",
    "print('Array \"a\":')\n",
    "array_info(a)\n",
    "print('Array \"b\"')\n",
    "array_info(b)\n",
    "\n",
    "c = np.matmul(a,b) # matrix multiplication of a and b\n",
    "\n",
    "print('matrix multiplication of a and b:')\n",
    "array_info(c)\n",
    "\n",
    "print('{} x {} --> {}'.format(a.shape, b.shape, c.shape)) # dim1 of a and dim0 of b has to be\n",
    "                                                        # same for matrix multiplication"
   ]
  },
  {
   "cell_type": "code",
   "execution_count": 84,
   "metadata": {
    "pycharm": {
     "name": "#%%\n"
    }
   },
   "outputs": [
    {
     "name": "stdout",
     "output_type": "stream",
     "text": [
      "Array \"a\":\n",
      "Array:\n",
      "[[0.19234996 0.55252969 0.85783199 0.35518183]\n",
      " [0.75228047 0.20215772 0.4575088  0.69009038]\n",
      " [0.03864801 0.5544751  0.1581461  0.0489392 ]]\n",
      "Data type:\tfloat64\n",
      "Array shape:\t(3, 4)\n",
      "\n",
      "Array \"b\"\n",
      "Array:\n",
      "[[0.47204625 0.78318867]\n",
      " [0.83752561 0.39204343]\n",
      " [0.55528676 0.8136361 ]\n",
      " [0.60343968 0.9240015 ]]\n",
      "Data type:\tfloat64\n",
      "Array shape:\t(4, 2)\n",
      "\n",
      "Array:\n",
      "[[1.2442294  1.39341356]\n",
      " [1.19489994 1.67832236]\n",
      " [0.59997903 0.42154027]]\n",
      "Data type:\tfloat64\n",
      "Array shape:\t(3, 2)\n",
      "\n"
     ]
    }
   ],
   "source": [
    "a = np.random.random((3, 4))\n",
    "b = np.random.random((4, 2))\n",
    "\n",
    "print('Array \"a\":')\n",
    "array_info(a)\n",
    "print('Array \"b\"')\n",
    "array_info(b)\n",
    "\n",
    "c = a@b # matrix multiplication of a and b\n",
    "array_info(c)"
   ]
  },
  {
   "cell_type": "markdown",
   "metadata": {
    "pycharm": {
     "name": "#%% md\n"
    }
   },
   "source": [
    "### <font style=\"color:rgb(8,133,37)\">6.3. Inverse</font>"
   ]
  },
  {
   "cell_type": "code",
   "execution_count": 85,
   "metadata": {
    "pycharm": {
     "name": "#%%\n"
    }
   },
   "outputs": [
    {
     "name": "stdout",
     "output_type": "stream",
     "text": [
      "Array \"A\":\n",
      "Array:\n",
      "[[0.1344096  0.95999728 0.46024698]\n",
      " [0.48101928 0.57255329 0.05514657]\n",
      " [0.64348459 0.56892342 0.17287408]]\n",
      "Data type:\tfloat64\n",
      "Array shape:\t(3, 3)\n",
      "\n",
      "Inverse of \"A\" (\"A_inverse\"):\n",
      "Array:\n",
      "[[-0.8419963  -1.19422623  2.62262415]\n",
      " [ 0.59370651  3.39917286 -2.66497065]\n",
      " [ 1.18027012 -6.74133975  4.79277178]]\n",
      "Data type:\tfloat64\n",
      "Array shape:\t(3, 3)\n",
      "\n",
      "\"A x A_inverse = Identity\" should be true:\n",
      "Array:\n",
      "[[1.00000000e+00 0.00000000e+00 0.00000000e+00]\n",
      " [8.32667268e-17 1.00000000e+00 1.66533454e-16]\n",
      " [5.55111512e-17 0.00000000e+00 1.00000000e+00]]\n",
      "Data type:\tfloat64\n",
      "Array shape:\t(3, 3)\n",
      "\n"
     ]
    }
   ],
   "source": [
    "A = np.random.random((3,3))\n",
    "print('Array \"A\":')\n",
    "array_info(A)\n",
    "A_inverse = np.linalg.inv(A)\n",
    "print('Inverse of \"A\" (\"A_inverse\"):')\n",
    "array_info(A_inverse)\n",
    "\n",
    "print('\"A x A_inverse = Identity\" should be true:')\n",
    "A_X_A_inverse = np.matmul(A, A_inverse)  # A x A_inverse = I = Identity matrix\n",
    "array_info(A_X_A_inverse)"
   ]
  },
  {
   "cell_type": "markdown",
   "metadata": {
    "pycharm": {
     "name": "#%% md\n"
    }
   },
   "source": [
    "### <font style=\"color:rgb(8,133,37)\">6.4. Dot Product</font>\n"
   ]
  },
  {
   "cell_type": "code",
   "execution_count": 86,
   "metadata": {
    "pycharm": {
     "name": "#%%\n"
    }
   },
   "outputs": [
    {
     "name": "stdout",
     "output_type": "stream",
     "text": [
      "Array:\n",
      "70\n",
      "Data type:\tint64\n",
      "Array shape:\t()\n",
      "\n"
     ]
    }
   ],
   "source": [
    "a = np.array([1, 2, 3, 4])\n",
    "b = np.array([5, 6, 7, 8])\n",
    "\n",
    "dot_pro = np.dot(a, b)  # It will be a scalar, so its shape will be empty\n",
    "array_info(dot_pro)"
   ]
  },
  {
   "cell_type": "markdown",
   "metadata": {
    "pycharm": {
     "name": "#%% md\n"
    }
   },
   "source": [
    "## <font color='blue'>7. Array statistics</font>\n"
   ]
  },
  {
   "cell_type": "markdown",
   "metadata": {
    "pycharm": {
     "name": "#%% md\n"
    }
   },
   "source": [
    "### <font style=\"color:rgb(8,133,37)\">7.1. Sum</font>\n"
   ]
  },
  {
   "cell_type": "code",
   "execution_count": 87,
   "metadata": {
    "pycharm": {
     "name": "#%%\n"
    }
   },
   "outputs": [
    {
     "name": "stdout",
     "output_type": "stream",
     "text": [
      "15\n"
     ]
    }
   ],
   "source": [
    "a = np.array([1, 2, 3, 4, 5])\n",
    "\n",
    "print(a.sum())"
   ]
  },
  {
   "cell_type": "markdown",
   "metadata": {
    "pycharm": {
     "name": "#%% md\n"
    }
   },
   "source": [
    "### <font style=\"color:rgb(8,133,37)\">7.2. Sum along Axis</font>\n"
   ]
  },
  {
   "cell_type": "code",
   "execution_count": 88,
   "metadata": {
    "pycharm": {
     "name": "#%%\n"
    }
   },
   "outputs": [
    {
     "name": "stdout",
     "output_type": "stream",
     "text": [
      "[[1 2 3]\n",
      " [4 5 6]]\n",
      "\n",
      "sum along 0th axis =  [5 7 9]\n",
      "\n",
      "sum along 1st axis =  [ 6 15]\n"
     ]
    }
   ],
   "source": [
    "a = np.array([[1, 2, 3], [4, 5, 6]])\n",
    "print(a)\n",
    "print('')\n",
    "\n",
    "print('sum along 0th axis = ',a.sum(axis = 0)) # sum along 0th axis ie: 1+4, 2+5, 3+6\n",
    "print(\"\")\n",
    "print('sum along 1st axis = ',a.sum(axis = 1)) # sum along 1st axis ie: 1+2+3, 4+5+6"
   ]
  },
  {
   "cell_type": "markdown",
   "metadata": {
    "pycharm": {
     "name": "#%% md\n"
    }
   },
   "source": [
    "### <font style=\"color:rgb(8,133,37)\">7.3. Minimum and Maximum</font>\n"
   ]
  },
  {
   "cell_type": "code",
   "execution_count": 89,
   "metadata": {
    "pycharm": {
     "name": "#%%\n"
    }
   },
   "outputs": [
    {
     "name": "stdout",
     "output_type": "stream",
     "text": [
      "Minimum =  -1.1\n",
      "Maximum =  100.0\n"
     ]
    }
   ],
   "source": [
    "a = np.array([-1.1, 2, 5, 100])\n",
    "\n",
    "print('Minimum = ', a.min())\n",
    "print('Maximum = ', a.max())"
   ]
  },
  {
   "cell_type": "markdown",
   "metadata": {
    "pycharm": {
     "name": "#%% md\n"
    }
   },
   "source": [
    "### <font style=\"color:rgb(8,133,37)\">7.4. Min and Max along Axis</font>\n"
   ]
  },
  {
   "cell_type": "code",
   "execution_count": 90,
   "metadata": {
    "pycharm": {
     "name": "#%%\n"
    }
   },
   "outputs": [
    {
     "name": "stdout",
     "output_type": "stream",
     "text": [
      "a =\n",
      " [[-2  0  2]\n",
      " [ 1  2  3]] \n",
      "\n",
      "Minimum =  -2\n",
      "Maximum =  3\n",
      "\n",
      "Minimum along axis 0 =  [-2  0  2]\n",
      "Maximum along axis 0 =  [1 2 3]\n",
      "\n",
      "Minimum along axis 1 =  [-2  1]\n",
      "Maximum along axis 1 =  [2 3]\n"
     ]
    }
   ],
   "source": [
    "a = np.array([[-2, 0, 2], [1, 2, 3]])\n",
    "\n",
    "print('a =\\n',a,'\\n')\n",
    "print('Minimum = ', a.min())\n",
    "print('Maximum = ', a.max())\n",
    "print()\n",
    "print('Minimum along axis 0 = ', a.min(0))\n",
    "print('Maximum along axis 0 = ', a.max(0))\n",
    "print()\n",
    "print('Minimum along axis 1 = ', a.min(1))\n",
    "print('Maximum along axis 1 = ', a.max(1))"
   ]
  },
  {
   "cell_type": "markdown",
   "metadata": {
    "pycharm": {
     "name": "#%% md\n"
    }
   },
   "source": [
    "### <font style=\"color:rgb(8,133,37)\">7.5. Mean and Standard Deviation</font>\n"
   ]
  },
  {
   "cell_type": "code",
   "execution_count": 91,
   "metadata": {
    "pycharm": {
     "name": "#%%\n"
    }
   },
   "outputs": [
    {
     "name": "stdout",
     "output_type": "stream",
     "text": [
      "mean of the array =  -0.001428571428571414\n",
      "standard deviation of the array =  1.1142252730860458\n"
     ]
    }
   ],
   "source": [
    "a = np.array([-1, 0, -0.4, 1.2, 1.43, -1.9, 0.66])\n",
    "\n",
    "print('mean of the array = ',a.mean())\n",
    "print('standard deviation of the array = ',a.std())"
   ]
  },
  {
   "cell_type": "markdown",
   "metadata": {
    "pycharm": {
     "name": "#%% md\n"
    }
   },
   "source": [
    "### <font style=\"color:rgb(8,133,37)\">7.6. Standardizing the Array</font>\n",
    "\n",
    "Make distribution of array elements such that`mean=0` and `std=1`."
   ]
  },
  {
   "cell_type": "code",
   "execution_count": 92,
   "metadata": {
    "pycharm": {
     "name": "#%%\n"
    }
   },
   "outputs": [
    {
     "name": "stdout",
     "output_type": "stream",
     "text": [
      "mean of the array =  -0.001428571428571414\n",
      "standard deviation of the array =  1.1142252730860458\n",
      "\n",
      "Standardized Array =  [-8.96202458e-01  1.28212083e-03 -3.57711711e-01  1.07826362e+00\n",
      "  1.28468507e+00 -1.70393858e+00  5.93621943e-01]\n",
      "\n",
      "mean of the standardized array =  -3.172065784643304e-17\n",
      "standard deviation of the standardized  array =  1.0\n"
     ]
    }
   ],
   "source": [
    "a = np.array([-1, 0, -0.4, 1.2, 1.43, -1.9, 0.66])\n",
    "\n",
    "print('mean of the array = ',a.mean())\n",
    "print('standard deviation of the array = ',a.std())\n",
    "print()\n",
    "\n",
    "standardized_a = (a - a.mean())/a.std()\n",
    "print('Standardized Array = ', standardized_a)\n",
    "print()\n",
    "\n",
    "print('mean of the standardized array = ',standardized_a.mean()) # close to 0\n",
    "print('standard deviation of the standardized  array = ',standardized_a.std()) # equals to 1"
   ]
  },
  {
   "cell_type": "markdown",
   "metadata": {
    "pycharm": {
     "name": "#%% md\n"
    }
   },
   "source": [
    "# <font color='blue'>References </font>\n",
    "\n",
    "https://numpy.org/devdocs/user/quickstart.html\n",
    "\n",
    "https://numpy.org/devdocs/user/basics.types.html\n",
    "\n",
    "https://docs.scipy.org/doc/numpy/reference/generated/numpy.ndarray.astype.html\n",
    "\n",
    "https://coolsymbol.com/emojis/emoji-for-copy-and-paste.html\n",
    "\n",
    "https://docs.scipy.org/doc/numpy-1.13.0/reference/routines.math.html\n",
    "\n",
    "https://docs.scipy.org/doc/numpy-1.13.0/reference/generated/numpy.exp.html#numpy.exp\n",
    "\n",
    "https://docs.scipy.org/doc/numpy/reference/generated/numpy.clip.html\n",
    "\n",
    "https://docs.scipy.org/doc/numpy/reference/generated/numpy.sqrt.html\n",
    "\n",
    "https://docs.scipy.org/doc/numpy/reference/generated/numpy.log.html\n",
    "\n",
    "https://docs.scipy.org/doc/numpy/reference/generated/numpy.power.html\n",
    "\n",
    "https://docs.scipy.org/doc/numpy/reference/generated/numpy.reshape.html\n",
    "\n",
    "https://docs.scipy.org/doc/numpy/reference/generated/numpy.expand_dims.html\n",
    "\n",
    "https://docs.scipy.org/doc/numpy/reference/generated/numpy.squeeze.html\n",
    "\n",
    "https://docs.scipy.org/doc/numpy/reference/generated/numpy.concatenate.html\n",
    "\n",
    "https://docs.scipy.org/doc/numpy/reference/generated/numpy.hstack.html#numpy.hstack\n",
    "\n",
    "https://docs.scipy.org/doc/numpy/reference/generated/numpy.vstack.html#numpy.vstack"
   ]
  },
  {
   "cell_type": "markdown",
   "metadata": {
    "pycharm": {
     "name": "#%% md\n"
    }
   },
   "source": []
  }
 ],
 "metadata": {
  "kernelspec": {
   "display_name": "Python 3 (ipykernel)",
   "language": "python",
   "name": "python3"
  },
  "language_info": {
   "codemirror_mode": {
    "name": "ipython",
    "version": 3
   },
   "file_extension": ".py",
   "mimetype": "text/x-python",
   "name": "python",
   "nbconvert_exporter": "python",
   "pygments_lexer": "ipython3",
   "version": "3.9.7"
  }
 },
 "nbformat": 4,
 "nbformat_minor": 1
}
